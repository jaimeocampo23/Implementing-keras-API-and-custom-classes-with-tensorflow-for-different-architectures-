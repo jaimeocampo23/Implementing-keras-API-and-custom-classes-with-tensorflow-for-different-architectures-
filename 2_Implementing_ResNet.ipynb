{
  "nbformat": 4,
  "nbformat_minor": 0,
  "metadata": {
    "colab": {
      "name": "2 Implementing ResNet.ipynb",
      "provenance": [],
      "collapsed_sections": []
    },
    "kernelspec": {
      "name": "python3",
      "display_name": "Python 3"
    },
    "language_info": {
      "name": "python"
    },
    "widgets": {
      "application/vnd.jupyter.widget-state+json": {
        "c9d5aa4a2ea04fa99df319cdfcc9a6c2": {
          "model_module": "@jupyter-widgets/controls",
          "model_name": "HBoxModel",
          "model_module_version": "1.5.0",
          "state": {
            "_view_name": "HBoxView",
            "_dom_classes": [],
            "_model_name": "HBoxModel",
            "_view_module": "@jupyter-widgets/controls",
            "_model_module_version": "1.5.0",
            "_view_count": null,
            "_view_module_version": "1.5.0",
            "box_style": "",
            "layout": "IPY_MODEL_9f660fdfcffb42e89c22b44a8a9500e2",
            "_model_module": "@jupyter-widgets/controls",
            "children": [
              "IPY_MODEL_ee8c19870c31440fb2344ec09e3dad15",
              "IPY_MODEL_7d462c892cb14a45b8a5aad0e52207d4",
              "IPY_MODEL_9f084486460f45e9b915197546e00cb6"
            ]
          }
        },
        "9f660fdfcffb42e89c22b44a8a9500e2": {
          "model_module": "@jupyter-widgets/base",
          "model_name": "LayoutModel",
          "model_module_version": "1.2.0",
          "state": {
            "_view_name": "LayoutView",
            "grid_template_rows": null,
            "right": null,
            "justify_content": null,
            "_view_module": "@jupyter-widgets/base",
            "overflow": null,
            "_model_module_version": "1.2.0",
            "_view_count": null,
            "flex_flow": null,
            "width": null,
            "min_width": null,
            "border": null,
            "align_items": null,
            "bottom": null,
            "_model_module": "@jupyter-widgets/base",
            "top": null,
            "grid_column": null,
            "overflow_y": null,
            "overflow_x": null,
            "grid_auto_flow": null,
            "grid_area": null,
            "grid_template_columns": null,
            "flex": null,
            "_model_name": "LayoutModel",
            "justify_items": null,
            "grid_row": null,
            "max_height": null,
            "align_content": null,
            "visibility": null,
            "align_self": null,
            "height": null,
            "min_height": null,
            "padding": null,
            "grid_auto_rows": null,
            "grid_gap": null,
            "max_width": null,
            "order": null,
            "_view_module_version": "1.2.0",
            "grid_template_areas": null,
            "object_position": null,
            "object_fit": null,
            "grid_auto_columns": null,
            "margin": null,
            "display": null,
            "left": null
          }
        },
        "ee8c19870c31440fb2344ec09e3dad15": {
          "model_module": "@jupyter-widgets/controls",
          "model_name": "HTMLModel",
          "model_module_version": "1.5.0",
          "state": {
            "_view_name": "HTMLView",
            "style": "IPY_MODEL_61e891858259499f9c6b7d1a6d37a359",
            "_dom_classes": [],
            "description": "",
            "_model_name": "HTMLModel",
            "placeholder": "​",
            "_view_module": "@jupyter-widgets/controls",
            "_model_module_version": "1.5.0",
            "value": "Dl Completed...: 100%",
            "_view_count": null,
            "_view_module_version": "1.5.0",
            "description_tooltip": null,
            "_model_module": "@jupyter-widgets/controls",
            "layout": "IPY_MODEL_dc4bcb1dda264283a9c3d181c2e02c84"
          }
        },
        "7d462c892cb14a45b8a5aad0e52207d4": {
          "model_module": "@jupyter-widgets/controls",
          "model_name": "FloatProgressModel",
          "model_module_version": "1.5.0",
          "state": {
            "_view_name": "ProgressView",
            "style": "IPY_MODEL_922e0ed1507641e3b4d703eebe70db0d",
            "_dom_classes": [],
            "description": "",
            "_model_name": "FloatProgressModel",
            "bar_style": "success",
            "max": 4,
            "_view_module": "@jupyter-widgets/controls",
            "_model_module_version": "1.5.0",
            "value": 4,
            "_view_count": null,
            "_view_module_version": "1.5.0",
            "orientation": "horizontal",
            "min": 0,
            "description_tooltip": null,
            "_model_module": "@jupyter-widgets/controls",
            "layout": "IPY_MODEL_f53f9d15d7bf42e08d006af94e55675e"
          }
        },
        "9f084486460f45e9b915197546e00cb6": {
          "model_module": "@jupyter-widgets/controls",
          "model_name": "HTMLModel",
          "model_module_version": "1.5.0",
          "state": {
            "_view_name": "HTMLView",
            "style": "IPY_MODEL_7a4f320448744bb2b27125d0e35446de",
            "_dom_classes": [],
            "description": "",
            "_model_name": "HTMLModel",
            "placeholder": "​",
            "_view_module": "@jupyter-widgets/controls",
            "_model_module_version": "1.5.0",
            "value": " 4/4 [00:00&lt;00:00, 11.93 file/s]",
            "_view_count": null,
            "_view_module_version": "1.5.0",
            "description_tooltip": null,
            "_model_module": "@jupyter-widgets/controls",
            "layout": "IPY_MODEL_0e824ab28c954cdb8cf0b44c58cc0d42"
          }
        },
        "61e891858259499f9c6b7d1a6d37a359": {
          "model_module": "@jupyter-widgets/controls",
          "model_name": "DescriptionStyleModel",
          "model_module_version": "1.5.0",
          "state": {
            "_view_name": "StyleView",
            "_model_name": "DescriptionStyleModel",
            "description_width": "",
            "_view_module": "@jupyter-widgets/base",
            "_model_module_version": "1.5.0",
            "_view_count": null,
            "_view_module_version": "1.2.0",
            "_model_module": "@jupyter-widgets/controls"
          }
        },
        "dc4bcb1dda264283a9c3d181c2e02c84": {
          "model_module": "@jupyter-widgets/base",
          "model_name": "LayoutModel",
          "model_module_version": "1.2.0",
          "state": {
            "_view_name": "LayoutView",
            "grid_template_rows": null,
            "right": null,
            "justify_content": null,
            "_view_module": "@jupyter-widgets/base",
            "overflow": null,
            "_model_module_version": "1.2.0",
            "_view_count": null,
            "flex_flow": null,
            "width": null,
            "min_width": null,
            "border": null,
            "align_items": null,
            "bottom": null,
            "_model_module": "@jupyter-widgets/base",
            "top": null,
            "grid_column": null,
            "overflow_y": null,
            "overflow_x": null,
            "grid_auto_flow": null,
            "grid_area": null,
            "grid_template_columns": null,
            "flex": null,
            "_model_name": "LayoutModel",
            "justify_items": null,
            "grid_row": null,
            "max_height": null,
            "align_content": null,
            "visibility": null,
            "align_self": null,
            "height": null,
            "min_height": null,
            "padding": null,
            "grid_auto_rows": null,
            "grid_gap": null,
            "max_width": null,
            "order": null,
            "_view_module_version": "1.2.0",
            "grid_template_areas": null,
            "object_position": null,
            "object_fit": null,
            "grid_auto_columns": null,
            "margin": null,
            "display": null,
            "left": null
          }
        },
        "922e0ed1507641e3b4d703eebe70db0d": {
          "model_module": "@jupyter-widgets/controls",
          "model_name": "ProgressStyleModel",
          "model_module_version": "1.5.0",
          "state": {
            "_view_name": "StyleView",
            "_model_name": "ProgressStyleModel",
            "description_width": "",
            "_view_module": "@jupyter-widgets/base",
            "_model_module_version": "1.5.0",
            "_view_count": null,
            "_view_module_version": "1.2.0",
            "bar_color": null,
            "_model_module": "@jupyter-widgets/controls"
          }
        },
        "f53f9d15d7bf42e08d006af94e55675e": {
          "model_module": "@jupyter-widgets/base",
          "model_name": "LayoutModel",
          "model_module_version": "1.2.0",
          "state": {
            "_view_name": "LayoutView",
            "grid_template_rows": null,
            "right": null,
            "justify_content": null,
            "_view_module": "@jupyter-widgets/base",
            "overflow": null,
            "_model_module_version": "1.2.0",
            "_view_count": null,
            "flex_flow": null,
            "width": null,
            "min_width": null,
            "border": null,
            "align_items": null,
            "bottom": null,
            "_model_module": "@jupyter-widgets/base",
            "top": null,
            "grid_column": null,
            "overflow_y": null,
            "overflow_x": null,
            "grid_auto_flow": null,
            "grid_area": null,
            "grid_template_columns": null,
            "flex": null,
            "_model_name": "LayoutModel",
            "justify_items": null,
            "grid_row": null,
            "max_height": null,
            "align_content": null,
            "visibility": null,
            "align_self": null,
            "height": null,
            "min_height": null,
            "padding": null,
            "grid_auto_rows": null,
            "grid_gap": null,
            "max_width": null,
            "order": null,
            "_view_module_version": "1.2.0",
            "grid_template_areas": null,
            "object_position": null,
            "object_fit": null,
            "grid_auto_columns": null,
            "margin": null,
            "display": null,
            "left": null
          }
        },
        "7a4f320448744bb2b27125d0e35446de": {
          "model_module": "@jupyter-widgets/controls",
          "model_name": "DescriptionStyleModel",
          "model_module_version": "1.5.0",
          "state": {
            "_view_name": "StyleView",
            "_model_name": "DescriptionStyleModel",
            "description_width": "",
            "_view_module": "@jupyter-widgets/base",
            "_model_module_version": "1.5.0",
            "_view_count": null,
            "_view_module_version": "1.2.0",
            "_model_module": "@jupyter-widgets/controls"
          }
        },
        "0e824ab28c954cdb8cf0b44c58cc0d42": {
          "model_module": "@jupyter-widgets/base",
          "model_name": "LayoutModel",
          "model_module_version": "1.2.0",
          "state": {
            "_view_name": "LayoutView",
            "grid_template_rows": null,
            "right": null,
            "justify_content": null,
            "_view_module": "@jupyter-widgets/base",
            "overflow": null,
            "_model_module_version": "1.2.0",
            "_view_count": null,
            "flex_flow": null,
            "width": null,
            "min_width": null,
            "border": null,
            "align_items": null,
            "bottom": null,
            "_model_module": "@jupyter-widgets/base",
            "top": null,
            "grid_column": null,
            "overflow_y": null,
            "overflow_x": null,
            "grid_auto_flow": null,
            "grid_area": null,
            "grid_template_columns": null,
            "flex": null,
            "_model_name": "LayoutModel",
            "justify_items": null,
            "grid_row": null,
            "max_height": null,
            "align_content": null,
            "visibility": null,
            "align_self": null,
            "height": null,
            "min_height": null,
            "padding": null,
            "grid_auto_rows": null,
            "grid_gap": null,
            "max_width": null,
            "order": null,
            "_view_module_version": "1.2.0",
            "grid_template_areas": null,
            "object_position": null,
            "object_fit": null,
            "grid_auto_columns": null,
            "margin": null,
            "display": null,
            "left": null
          }
        }
      }
    }
  },
  "cells": [
    {
      "cell_type": "markdown",
      "source": [
        "# Ungraded Lab: Implementing ResNet\n",
        "\n",
        "In this lab, you will continue exploring Model subclassing by building a more complex architecture. \n",
        "\n",
        "[Residual Networks](https://arxiv.org/abs/1512.03385) make use of skip connections to make deep models easier to train. \n",
        "- There are branches as well as many repeating blocks of layers in this type of network. \n",
        "- You can define a model class to help organize this more complex code, and to make it easier to re-use your code when building the model.\n",
        "- As before, you will inherit from the [Model class](https://keras.io/api/models/model/) so that you can make use of the other built-in methods that Keras provides."
      ],
      "metadata": {
        "id": "kPBqZy3KrZ08"
      }
    },
    {
      "cell_type": "code",
      "execution_count": null,
      "metadata": {
        "id": "5w3fJVRjrWGD"
      },
      "outputs": [],
      "source": [
        "try:\n",
        "    # %tensorflow_version only exists in Colab.\n",
        "    %tensorflow_version 2.x\n",
        "except Exception:\n",
        "    pass\n",
        "\n",
        "import tensorflow as tf\n",
        "import tensorflow_datasets as tfds\n",
        "from tensorflow.keras.layers import Layer"
      ]
    },
    {
      "cell_type": "markdown",
      "source": [
        "## Implement Model subclasses\n",
        "\n",
        "As shown in the lectures, you will first implement the Identity Block which contains the skip connections (i.e. the `add()` operation below. This will also inherit the Model class and implement the `__init__()` and `call()` methods."
      ],
      "metadata": {
        "id": "-rPw3xtFrmXc"
      }
    },
    {
      "cell_type": "code",
      "source": [
        "class IdentityBlock(tf.keras.Model):\n",
        "    def __init__(self, filters, kernel_size):\n",
        "        super(IdentityBlock, self).__init__(name='')\n",
        "\n",
        "        self.conv1 = tf.keras.layers.Conv2D(filters, kernel_size, padding='same')\n",
        "        self.bn1 = tf.keras.layers.BatchNormalization()\n",
        "\n",
        "        self.conv2 = tf.keras.layers.Conv2D(filters, kernel_size, padding='same')\n",
        "        self.bn2 = tf.keras.layers.BatchNormalization()\n",
        "\n",
        "        self.act = tf.keras.layers.Activation('relu')\n",
        "        self.add = tf.keras.layers.Add()\n",
        "    \n",
        "    def call(self, input_tensor):\n",
        "        x = self.conv1(input_tensor)\n",
        "        x = self.bn1(x)\n",
        "        x = self.act(x)\n",
        "\n",
        "        x = self.conv2(x)\n",
        "        x = self.bn2(x)\n",
        "\n",
        "        x = self.add([x, input_tensor])\n",
        "        x = self.act(x)\n",
        "        return x"
      ],
      "metadata": {
        "id": "4sWiR-e4rpio"
      },
      "execution_count": null,
      "outputs": []
    },
    {
      "cell_type": "markdown",
      "source": [
        "From there, you can build the rest of the ResNet model. \n",
        "- You will call your `IdentityBlock` class two times below and that takes care of inserting those blocks of layers into this network."
      ],
      "metadata": {
        "id": "O_OxgNRgr9G7"
      }
    },
    {
      "cell_type": "code",
      "source": [
        "class ResNet(tf.keras.Model):\n",
        "    def __init__(self, num_classes):\n",
        "        super(ResNet, self).__init__()\n",
        "        self.conv = tf.keras.layers.Conv2D(64, 7, padding='same')\n",
        "        self.bn = tf.keras.layers.BatchNormalization()\n",
        "        self.act = tf.keras.layers.Activation('relu')\n",
        "        self.max_pool = tf.keras.layers.MaxPool2D((3, 3))\n",
        "\n",
        "        # Use the Identity blocks that you just defined\n",
        "        self.id1a = IdentityBlock(64, 3)\n",
        "        self.id1b = IdentityBlock(64, 3)\n",
        "\n",
        "        self.global_pool = tf.keras.layers.GlobalAveragePooling2D()\n",
        "        self.classifier = tf.keras.layers.Dense(num_classes, activation='softmax')\n",
        "\n",
        "    def call(self, inputs):\n",
        "        x = self.conv(inputs)\n",
        "        x = self.bn(x)\n",
        "        x = self.act(x)\n",
        "        x = self.max_pool(x)\n",
        "\n",
        "        # insert the identity blocks in the middle of the network\n",
        "        x = self.id1a(x)\n",
        "        x = self.id1b(x)\n",
        "\n",
        "        x = self.global_pool(x)\n",
        "        return self.classifier(x)"
      ],
      "metadata": {
        "id": "ifqlHtqhr92t"
      },
      "execution_count": null,
      "outputs": []
    },
    {
      "cell_type": "markdown",
      "source": [
        "## Training the Model\n",
        "\n",
        "As mentioned before, inheriting the Model class allows you to make use of the other APIs that Keras provides, such as:\n",
        "- training\n",
        "- serialization\n",
        "- evaluation\n",
        "\n",
        "You can instantiate a Resnet object and train it as usual like below:\n",
        "\n",
        "**Note**: If you have issues with training in the Coursera lab environment, you can also run this in Colab using the \"open in colab\" badge link."
      ],
      "metadata": {
        "id": "5uQLRmqQsoh_"
      }
    },
    {
      "cell_type": "code",
      "source": [
        "# utility function to normalize the images and return (image, label) pairs.\n",
        "def preprocess(features):\n",
        "    return tf.cast(features['image'], tf.float32) / 255., features['label']\n",
        "\n",
        "# create a ResNet instance with 10 output units for MNIST\n",
        "resnet = ResNet(10)\n",
        "resnet.compile(optimizer='adam', loss='sparse_categorical_crossentropy', metrics=['accuracy'])\n",
        "\n",
        "# load and preprocess the dataset\n",
        "dataset = tfds.load('mnist', split=tfds.Split.TRAIN, data_dir='./data')\n",
        "dataset = dataset.map(preprocess).batch(32)\n",
        "\n",
        "# train the model.\n",
        "resnet.fit(dataset, epochs=1)"
      ],
      "metadata": {
        "colab": {
          "base_uri": "https://localhost:8080/",
          "height": 219,
          "referenced_widgets": [
            "c9d5aa4a2ea04fa99df319cdfcc9a6c2",
            "9f660fdfcffb42e89c22b44a8a9500e2",
            "ee8c19870c31440fb2344ec09e3dad15",
            "7d462c892cb14a45b8a5aad0e52207d4",
            "9f084486460f45e9b915197546e00cb6",
            "61e891858259499f9c6b7d1a6d37a359",
            "dc4bcb1dda264283a9c3d181c2e02c84",
            "922e0ed1507641e3b4d703eebe70db0d",
            "f53f9d15d7bf42e08d006af94e55675e",
            "7a4f320448744bb2b27125d0e35446de",
            "0e824ab28c954cdb8cf0b44c58cc0d42"
          ]
        },
        "id": "szstPFWAspWm",
        "outputId": "7e0b8b24-8c42-4376-92e7-3019577ed386"
      },
      "execution_count": null,
      "outputs": [
        {
          "output_type": "stream",
          "name": "stdout",
          "text": [
            "\u001b[1mDownloading and preparing dataset mnist/3.0.1 (download: 11.06 MiB, generated: 21.00 MiB, total: 32.06 MiB) to ./data/mnist/3.0.1...\u001b[0m\n"
          ]
        },
        {
          "output_type": "stream",
          "name": "stderr",
          "text": [
            "WARNING:absl:Dataset mnist is hosted on GCS. It will automatically be downloaded to your\n",
            "local data directory. If you'd instead prefer to read directly from our public\n",
            "GCS bucket (recommended if you're running on GCP), you can instead pass\n",
            "`try_gcs=True` to `tfds.load` or set `data_dir=gs://tfds-data/datasets`.\n",
            "\n"
          ]
        },
        {
          "output_type": "display_data",
          "data": {
            "application/vnd.jupyter.widget-view+json": {
              "model_id": "c9d5aa4a2ea04fa99df319cdfcc9a6c2",
              "version_minor": 0,
              "version_major": 2
            },
            "text/plain": [
              "Dl Completed...:   0%|          | 0/4 [00:00<?, ? file/s]"
            ]
          },
          "metadata": {}
        },
        {
          "output_type": "stream",
          "name": "stdout",
          "text": [
            "\n",
            "\u001b[1mDataset mnist downloaded and prepared to ./data/mnist/3.0.1. Subsequent calls will reuse this data.\u001b[0m\n",
            "1875/1875 [==============================] - 235s 124ms/step - loss: 0.1272 - accuracy: 0.9650\n"
          ]
        },
        {
          "output_type": "execute_result",
          "data": {
            "text/plain": [
              "<keras.callbacks.History at 0x7f6d01b3bfd0>"
            ]
          },
          "metadata": {},
          "execution_count": 4
        }
      ]
    }
  ]
}